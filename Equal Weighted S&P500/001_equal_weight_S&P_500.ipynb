{
  "cells": [
    {
      "cell_type": "markdown",
      "metadata": {
        "id": "bJuQs7zyDaPM"
      },
      "source": [
        "# Equal-Weight S&P 500 Index Fund\n",
        "\n",
        "## Introduction & Library Imports\n",
        "\n",
        "The S&P 500 is the world's most popular stock market index. The largest fund that is benchmarked to this index is the SPDR® S&P 500® ETF Trust. It has more than US$250 billion of assets under management.\n",
        "\n",
        "The goal of this section of the course is to create a Python script that will accept the value of your portfolio and tell you how many shares of each S&P 500 constituent you should purchase to get an equal-weight version of the index fund.\n",
        "\n",
        "## Library Imports\n",
        "\n",
        "The first thing we need to do is import the open-source software libraries that we'll be using in this tutorial."
      ]
    },
    {
      "cell_type": "code",
      "execution_count": 1,
      "metadata": {
        "id": "GLssx5ukDaPP"
      },
      "outputs": [],
      "source": [
        "import numpy as np\n",
        "import pandas as pd\n",
        "import requests\n",
        "import xlsxwriter\n",
        "import math"
      ]
    },
    {
      "cell_type": "markdown",
      "metadata": {
        "id": "pgDSvTxTDaPP"
      },
      "source": [
        "## Importing Our List of Stocks\n",
        "\n",
        "The next thing we need to do is import the constituents of the S&P 500.\n",
        "\n",
        "These constituents change over time, so in an ideal world you would connect directly to the index provider (Standard & Poor's) and pull their real-time constituents on a regular basis.\n",
        "\n",
        "Paying for access to the index provider's API is outside of the scope of this course. \n",
        "\n",
        "There's a static version of the S&P 500 constituents available here. [Click this link to download them now](https://drive.google.com/file/d/1ZJSpbY69DVckVZlO9cC6KkgfSufybcHN/view?usp=sharing). Move this file into the `starter-files` folder so it can be accessed by other files in that directory.\n",
        "\n",
        "Now it's time to import these stocks to our Jupyter Notebook file."
      ]
    },
    {
      "cell_type": "code",
      "execution_count": 2,
      "metadata": {
        "id": "_BckCVqCDaPQ"
      },
      "outputs": [
        {
          "data": {
            "text/html": [
              "<div>\n",
              "<style scoped>\n",
              "    .dataframe tbody tr th:only-of-type {\n",
              "        vertical-align: middle;\n",
              "    }\n",
              "\n",
              "    .dataframe tbody tr th {\n",
              "        vertical-align: top;\n",
              "    }\n",
              "\n",
              "    .dataframe thead th {\n",
              "        text-align: right;\n",
              "    }\n",
              "</style>\n",
              "<table border=\"1\" class=\"dataframe\">\n",
              "  <thead>\n",
              "    <tr style=\"text-align: right;\">\n",
              "      <th></th>\n",
              "      <th>Ticker</th>\n",
              "    </tr>\n",
              "  </thead>\n",
              "  <tbody>\n",
              "    <tr>\n",
              "      <th>0</th>\n",
              "      <td>A</td>\n",
              "    </tr>\n",
              "    <tr>\n",
              "      <th>1</th>\n",
              "      <td>AAL</td>\n",
              "    </tr>\n",
              "    <tr>\n",
              "      <th>2</th>\n",
              "      <td>AAP</td>\n",
              "    </tr>\n",
              "    <tr>\n",
              "      <th>3</th>\n",
              "      <td>AAPL</td>\n",
              "    </tr>\n",
              "    <tr>\n",
              "      <th>4</th>\n",
              "      <td>ABBV</td>\n",
              "    </tr>\n",
              "    <tr>\n",
              "      <th>...</th>\n",
              "      <td>...</td>\n",
              "    </tr>\n",
              "    <tr>\n",
              "      <th>500</th>\n",
              "      <td>YUM</td>\n",
              "    </tr>\n",
              "    <tr>\n",
              "      <th>501</th>\n",
              "      <td>ZBH</td>\n",
              "    </tr>\n",
              "    <tr>\n",
              "      <th>502</th>\n",
              "      <td>ZBRA</td>\n",
              "    </tr>\n",
              "    <tr>\n",
              "      <th>503</th>\n",
              "      <td>ZION</td>\n",
              "    </tr>\n",
              "    <tr>\n",
              "      <th>504</th>\n",
              "      <td>ZTS</td>\n",
              "    </tr>\n",
              "  </tbody>\n",
              "</table>\n",
              "<p>505 rows × 1 columns</p>\n",
              "</div>"
            ],
            "text/plain": [
              "    Ticker\n",
              "0        A\n",
              "1      AAL\n",
              "2      AAP\n",
              "3     AAPL\n",
              "4     ABBV\n",
              "..     ...\n",
              "500    YUM\n",
              "501    ZBH\n",
              "502   ZBRA\n",
              "503   ZION\n",
              "504    ZTS\n",
              "\n",
              "[505 rows x 1 columns]"
            ]
          },
          "execution_count": 2,
          "metadata": {},
          "output_type": "execute_result"
        }
      ],
      "source": [
        "stocks = pd.read_csv('sp_500_stocks.csv')\n",
        "stocks"
      ]
    },
    {
      "cell_type": "markdown",
      "metadata": {
        "id": "NKIJTKLGDaPQ"
      },
      "source": [
        "## Acquiring an API Token\n",
        "\n",
        "Now it's time to import our IEX Cloud API token. This is the data provider that we will be using throughout this course.\n",
        "\n",
        "API tokens (and other sensitive information) should be stored in a `secrets.py` file that doesn't get pushed to your local Git repository. We'll be using a sandbox API token in this course, which means that the data we'll use is randomly-generated and (more importantly) has no cost associated with it.\n",
        "\n",
        "[Click here](http://nickmccullum.com/algorithmic-trading-python/secrets.py) to download your `secrets.py` file. Move the file into the same directory as this Jupyter Notebook before proceeding."
      ]
    },
    {
      "cell_type": "code",
      "execution_count": 3,
      "metadata": {
        "id": "qu7NSEIrDaPR"
      },
      "outputs": [],
      "source": [
        "from secrets import IEX_CLOUD_API_TOKEN"
      ]
    },
    {
      "cell_type": "markdown",
      "metadata": {
        "id": "jesq-7D5DaPR"
      },
      "source": [
        "## Making Our First API Call\n",
        "\n",
        "Now it's time to structure our API calls to IEX cloud. \n",
        "\n",
        "We need the following information from the API:\n",
        "\n",
        "* Market capitalization for each stock\n",
        "* Price of each stock\n",
        "\n"
      ]
    },
    {
      "cell_type": "code",
      "execution_count": 4,
      "metadata": {
        "id": "iHsD8S3uDaPS"
      },
      "outputs": [
        {
          "name": "stdout",
          "output_type": "stream",
          "text": [
            "{'avgTotalVolume': 94501684, 'calculationPrice': 'close', 'change': 2.18, 'changePercent': 0.01339, 'close': 169.04, 'closeSource': 'facfiilo', 'closeTime': 1646369503724, 'companyName': 'Apple Inc', 'currency': 'USD', 'delayedPrice': 172.42, 'delayedPriceTime': 1658598945385, 'extendedChange': -0.53, 'extendedChangePercent': -0.00313, 'extendedPrice': 167.45, 'extendedPriceTime': 1651956464604, 'high': 169.04, 'highSource': 'li1tud  edeienac5empr y', 'highTime': 1697411778819, 'iexAskPrice': None, 'iexAskSize': None, 'iexBidPrice': None, 'iexBidSize': None, 'iexClose': 171.01, 'iexCloseTime': 1694595330019, 'iexLastUpdated': None, 'iexMarketPercent': None, 'iexOpen': 163.87, 'iexOpenTime': 1694794248486, 'iexRealtimePrice': None, 'iexRealtimeSize': None, 'iexVolume': None, 'lastTradeTime': 1667633490703, 'latestPrice': 171.07, 'latestSource': 'Close', 'latestTime': 'February 25, 2022', 'latestUpdate': 1680366063471, 'latestVolume': 94099100, 'low': 162.493, 'lowSource': 'ue  eeeiy 1ialdpdtrnmc5', 'lowTime': 1647443527998, 'marketCap': 2749310152713, 'oddLotDelayedPrice': 167.148, 'oddLotDelayedPriceTime': 1695378543153, 'open': 166.04, 'openTime': 1673195752672, 'openSource': 'fclofaii', 'peRatio': 28.56, 'previousClose': 168.72, 'previousVolume': 146967022, 'primaryExchange': 'NADAQS', 'symbol': 'AAPL', 'volume': 94555060, 'week52High': 190.72, 'week52Low': 120.34, 'ytdChange': -0.05976246651825115, 'isUSMarketOpen': False}\n"
          ]
        }
      ],
      "source": [
        "symbol = 'AAPL'\n",
        "api_url = f'https://sandbox.iexapis.com/stable/stock/{symbol}/quote/?token={IEX_CLOUD_API_TOKEN}'\n",
        "data = requests.get(api_url).json()\n",
        "print(data)"
      ]
    },
    {
      "cell_type": "markdown",
      "metadata": {
        "id": "vdffZoP0DaPS"
      },
      "source": [
        "## Parsing Our API Call\n",
        "\n",
        "The API call that we executed in the last code block contains all of the information required to build our equal-weight S&P 500 strategy. \n",
        "\n",
        "With that said, the data isn't in a proper format yet. We need to parse it first."
      ]
    },
    {
      "cell_type": "code",
      "execution_count": 5,
      "metadata": {
        "id": "26LPaAuEDaPT"
      },
      "outputs": [],
      "source": [
        "price = data['latestPrice']\n",
        "market_cap = data['marketCap']"
      ]
    },
    {
      "cell_type": "markdown",
      "metadata": {
        "id": "HS24HTfPDaPT"
      },
      "source": [
        "## Adding Our Stocks Data to a Pandas DataFrame\n",
        "\n",
        "The next thing we need to do is add our stock's price and market capitalization to a pandas DataFrame. Think of a DataFrame like the Python version of a spreadsheet. It stores tabular data."
      ]
    },
    {
      "cell_type": "code",
      "execution_count": 7,
      "metadata": {
        "id": "7EJydhR8DaPU"
      },
      "outputs": [
        {
          "data": {
            "text/html": [
              "<div>\n",
              "<style scoped>\n",
              "    .dataframe tbody tr th:only-of-type {\n",
              "        vertical-align: middle;\n",
              "    }\n",
              "\n",
              "    .dataframe tbody tr th {\n",
              "        vertical-align: top;\n",
              "    }\n",
              "\n",
              "    .dataframe thead th {\n",
              "        text-align: right;\n",
              "    }\n",
              "</style>\n",
              "<table border=\"1\" class=\"dataframe\">\n",
              "  <thead>\n",
              "    <tr style=\"text-align: right;\">\n",
              "      <th></th>\n",
              "      <th>Ticker</th>\n",
              "      <th>Stock Price</th>\n",
              "      <th>Market Capitialization</th>\n",
              "      <th>Number of Shares to Buy</th>\n",
              "    </tr>\n",
              "  </thead>\n",
              "  <tbody>\n",
              "  </tbody>\n",
              "</table>\n",
              "</div>"
            ],
            "text/plain": [
              "Empty DataFrame\n",
              "Columns: [Ticker, Stock Price, Market Capitialization, Number of Shares to Buy]\n",
              "Index: []"
            ]
          },
          "execution_count": 7,
          "metadata": {},
          "output_type": "execute_result"
        }
      ],
      "source": [
        "my_columns = ['Ticker','Stock Price','Market Capitialization','Number of Shares to Buy']\n",
        "final_dataframe = pd.DataFrame(columns=my_columns)\n",
        "final_dataframe"
      ]
    },
    {
      "cell_type": "code",
      "execution_count": 9,
      "metadata": {
        "id": "WnaRZEawDaPU"
      },
      "outputs": [
        {
          "data": {
            "text/html": [
              "<div>\n",
              "<style scoped>\n",
              "    .dataframe tbody tr th:only-of-type {\n",
              "        vertical-align: middle;\n",
              "    }\n",
              "\n",
              "    .dataframe tbody tr th {\n",
              "        vertical-align: top;\n",
              "    }\n",
              "\n",
              "    .dataframe thead th {\n",
              "        text-align: right;\n",
              "    }\n",
              "</style>\n",
              "<table border=\"1\" class=\"dataframe\">\n",
              "  <thead>\n",
              "    <tr style=\"text-align: right;\">\n",
              "      <th></th>\n",
              "      <th>Ticker</th>\n",
              "      <th>Stock Price</th>\n",
              "      <th>Market Capitialization</th>\n",
              "      <th>Number of Shares to Buy</th>\n",
              "    </tr>\n",
              "  </thead>\n",
              "  <tbody>\n",
              "    <tr>\n",
              "      <th>0</th>\n",
              "      <td>AAPL</td>\n",
              "      <td>171.07</td>\n",
              "      <td>2749310152713</td>\n",
              "      <td>N/A</td>\n",
              "    </tr>\n",
              "  </tbody>\n",
              "</table>\n",
              "</div>"
            ],
            "text/plain": [
              "  Ticker  Stock Price Market Capitialization Number of Shares to Buy\n",
              "0   AAPL       171.07          2749310152713                     N/A"
            ]
          },
          "execution_count": 9,
          "metadata": {},
          "output_type": "execute_result"
        }
      ],
      "source": [
        "final_dataframe.append(\n",
        "    pd.Series(\n",
        "    [\n",
        "        symbol,price,market_cap,'N/A'\n",
        "    ],\n",
        "    \n",
        "    index = my_columns\n",
        "    ),\n",
        "\n",
        "    ignore_index=True\n",
        "     \n",
        ")"
      ]
    },
    {
      "cell_type": "markdown",
      "metadata": {
        "id": "GwfpTFnNDaPU"
      },
      "source": [
        "## Looping Through The Tickers in Our List of Stocks\n",
        "\n",
        "Using the same logic that we outlined above, we can pull data for all S&P 500 stocks and store their data in the DataFrame using a `for` loop."
      ]
    },
    {
      "cell_type": "code",
      "execution_count": 16,
      "metadata": {
        "id": "YYEa-ZrkDaPV"
      },
      "outputs": [],
      "source": [
        "final_dataframe = pd.DataFrame(columns=my_columns)\n",
        "for stock in stocks['Ticker'][:5]:\n",
        "    api_url = f'https://sandbox.iexapis.com/stable/stock/{symbol}/quote/?token={IEX_CLOUD_API_TOKEN}'\n",
        "    data = requests.get(api_url).json()\n",
        "    final_dataframe = final_dataframe.append(\n",
        "        pd.Series(\n",
        "            [\n",
        "                stock,\n",
        "                data['latestPrice'],\n",
        "                data['marketCap'],\n",
        "                'N/A'\n",
        "            ],\n",
        "            index = my_columns, \n",
        "        ),\n",
        "        ignore_index= True\n",
        "    )\n",
        "    "
      ]
    },
    {
      "cell_type": "code",
      "execution_count": 17,
      "metadata": {
        "id": "bHPnsGKTDaPV"
      },
      "outputs": [
        {
          "data": {
            "text/html": [
              "<div>\n",
              "<style scoped>\n",
              "    .dataframe tbody tr th:only-of-type {\n",
              "        vertical-align: middle;\n",
              "    }\n",
              "\n",
              "    .dataframe tbody tr th {\n",
              "        vertical-align: top;\n",
              "    }\n",
              "\n",
              "    .dataframe thead th {\n",
              "        text-align: right;\n",
              "    }\n",
              "</style>\n",
              "<table border=\"1\" class=\"dataframe\">\n",
              "  <thead>\n",
              "    <tr style=\"text-align: right;\">\n",
              "      <th></th>\n",
              "      <th>Ticker</th>\n",
              "      <th>Stock Price</th>\n",
              "      <th>Market Capitialization</th>\n",
              "      <th>Number of Shares to Buy</th>\n",
              "    </tr>\n",
              "  </thead>\n",
              "  <tbody>\n",
              "    <tr>\n",
              "      <th>0</th>\n",
              "      <td>A</td>\n",
              "      <td>167.17</td>\n",
              "      <td>2712564798847</td>\n",
              "      <td>N/A</td>\n",
              "    </tr>\n",
              "    <tr>\n",
              "      <th>1</th>\n",
              "      <td>AAL</td>\n",
              "      <td>172.32</td>\n",
              "      <td>2802222413848</td>\n",
              "      <td>N/A</td>\n",
              "    </tr>\n",
              "    <tr>\n",
              "      <th>2</th>\n",
              "      <td>AAP</td>\n",
              "      <td>169.47</td>\n",
              "      <td>2785583655750</td>\n",
              "      <td>N/A</td>\n",
              "    </tr>\n",
              "    <tr>\n",
              "      <th>3</th>\n",
              "      <td>AAPL</td>\n",
              "      <td>173.02</td>\n",
              "      <td>2814044190508</td>\n",
              "      <td>N/A</td>\n",
              "    </tr>\n",
              "    <tr>\n",
              "      <th>4</th>\n",
              "      <td>ABBV</td>\n",
              "      <td>171.79</td>\n",
              "      <td>2818870020175</td>\n",
              "      <td>N/A</td>\n",
              "    </tr>\n",
              "  </tbody>\n",
              "</table>\n",
              "</div>"
            ],
            "text/plain": [
              "  Ticker  Stock Price Market Capitialization Number of Shares to Buy\n",
              "0      A       167.17          2712564798847                     N/A\n",
              "1    AAL       172.32          2802222413848                     N/A\n",
              "2    AAP       169.47          2785583655750                     N/A\n",
              "3   AAPL       173.02          2814044190508                     N/A\n",
              "4   ABBV       171.79          2818870020175                     N/A"
            ]
          },
          "execution_count": 17,
          "metadata": {},
          "output_type": "execute_result"
        }
      ],
      "source": [
        "final_dataframe"
      ]
    },
    {
      "cell_type": "markdown",
      "metadata": {
        "id": "Ik2DgPeBDaPV"
      },
      "source": [
        "## Using Batch API Calls to Improve Performance\n",
        "\n",
        "Batch API calls are one of the easiest ways to improve the performance of your code.\n",
        "\n",
        "This is because HTTP requests are typically one of the slowest components of a script.\n",
        "\n",
        "Also, API providers will often give you discounted rates for using batch API calls since they are easier for the API provider to respond to.\n",
        "\n",
        "IEX Cloud limits their batch API calls to 100 tickers per request. Still, this reduces the number of API calls we'll make in this section from 500 to 5 - huge improvement! In this section, we'll split our list of stocks into groups of 100 and then make a batch API call for each group."
      ]
    },
    {
      "cell_type": "code",
      "execution_count": 18,
      "metadata": {
        "id": "TqNlO3SVDaPV"
      },
      "outputs": [],
      "source": [
        "def chunks(lst,n):\n",
        "    for i in range(0,len(lst),n):\n",
        "        yield lst[i:i+n]"
      ]
    },
    {
      "cell_type": "code",
      "execution_count": 20,
      "metadata": {
        "id": "BWrCtQE3DaPW"
      },
      "outputs": [
        {
          "data": {
            "text/plain": [
              "[0         A\n",
              " 1       AAL\n",
              " 2       AAP\n",
              " 3      AAPL\n",
              " 4      ABBV\n",
              "       ...  \n",
              " 95     CINF\n",
              " 96       CL\n",
              " 97      CLX\n",
              " 98      CMA\n",
              " 99    CMCSA\n",
              " Name: Ticker, Length: 100, dtype: object,\n",
              " 100     CME\n",
              " 101     CMG\n",
              " 102     CMI\n",
              " 103     CMS\n",
              " 104     CNC\n",
              "        ... \n",
              " 195    FTNT\n",
              " 196     FTV\n",
              " 197      GD\n",
              " 198      GE\n",
              " 199    GILD\n",
              " Name: Ticker, Length: 100, dtype: object,\n",
              " 200     GIS\n",
              " 201      GL\n",
              " 202     GLW\n",
              " 203      GM\n",
              " 204    GOOG\n",
              "        ... \n",
              " 295     MAA\n",
              " 296     MAR\n",
              " 297     MAS\n",
              " 298     MCD\n",
              " 299    MCHP\n",
              " Name: Ticker, Length: 100, dtype: object,\n",
              " 300     MCK\n",
              " 301     MCO\n",
              " 302    MDLZ\n",
              " 303     MDT\n",
              " 304     MET\n",
              "        ... \n",
              " 395     RHI\n",
              " 396     RJF\n",
              " 397      RL\n",
              " 398     RMD\n",
              " 399     ROK\n",
              " Name: Ticker, Length: 100, dtype: object,\n",
              " 400     ROL\n",
              " 401     ROP\n",
              " 402    ROST\n",
              " 403     RSG\n",
              " 404     RTX\n",
              "        ... \n",
              " 495    XLNX\n",
              " 496     XOM\n",
              " 497    XRAY\n",
              " 498     XRX\n",
              " 499     XYL\n",
              " Name: Ticker, Length: 100, dtype: object,\n",
              " 500     YUM\n",
              " 501     ZBH\n",
              " 502    ZBRA\n",
              " 503    ZION\n",
              " 504     ZTS\n",
              " Name: Ticker, dtype: object]"
            ]
          },
          "execution_count": 20,
          "metadata": {},
          "output_type": "execute_result"
        }
      ],
      "source": [
        "symbol_groups = list(chunks(stocks['Ticker'],100))\n",
        "symbol_strings = []\n",
        "\n",
        "for i in range(0,len(symbol_groups)):\n",
        "    symbol_strings.append(','.join(symbol_groups[i]))\n",
        "final_dataframe = pd.DataFrame(columns=my_columns)\n",
        "\n",
        "for symbol_string in symbol_strings:\n",
        "    batch_api_call_url = f'https://sandbox.iexapis.com/stable/stock'\n"
      ]
    },
    {
      "cell_type": "markdown",
      "metadata": {
        "id": "nYI_Ne0XDaPW"
      },
      "source": [
        "## Calculating the Number of Shares to Buy\n",
        "\n",
        "As you can see in the DataFrame above, we stil haven't calculated the number of shares of each stock to buy.\n",
        "\n",
        "We'll do that next."
      ]
    },
    {
      "cell_type": "code",
      "execution_count": null,
      "metadata": {
        "id": "j5D78OEVDaPW"
      },
      "outputs": [],
      "source": []
    },
    {
      "cell_type": "code",
      "execution_count": null,
      "metadata": {
        "id": "vePuAdd9DaPW"
      },
      "outputs": [],
      "source": []
    },
    {
      "cell_type": "markdown",
      "metadata": {
        "id": "kgphlNqxDaPW"
      },
      "source": [
        "## Formatting Our Excel Output\n",
        "\n",
        "We will be using the XlsxWriter library for Python to create nicely-formatted Excel files.\n",
        "\n",
        "XlsxWriter is an excellent package and offers tons of customization. However, the tradeoff for this is that the library can seem very complicated to new users. Accordingly, this section will be fairly long because I want to do a good job of explaining how XlsxWriter works.\n",
        "\n",
        "### Initializing our XlsxWriter Object"
      ]
    },
    {
      "cell_type": "code",
      "execution_count": null,
      "metadata": {
        "id": "V0QvHnXcDaPX"
      },
      "outputs": [],
      "source": []
    },
    {
      "cell_type": "markdown",
      "metadata": {
        "id": "TqleUeMHDaPX"
      },
      "source": [
        "### Creating the Formats We'll Need For Our `.xlsx` File\n",
        "\n",
        "Formats include colors, fonts, and also symbols like `%` and `$`. We'll need four main formats for our Excel document:\n",
        "* String format for tickers\n",
        "* \\\\$XX.XX format for stock prices\n",
        "* \\\\$XX,XXX format for market capitalization\n",
        "* Integer format for the number of shares to purchase"
      ]
    },
    {
      "cell_type": "code",
      "execution_count": null,
      "metadata": {
        "id": "Ix5EFomBDaPX"
      },
      "outputs": [],
      "source": []
    },
    {
      "cell_type": "markdown",
      "metadata": {
        "id": "QxwnZ4r_DaPX"
      },
      "source": [
        "### Applying the Formats to the Columns of Our `.xlsx` File\n",
        "\n",
        "We can use the `set_column` method applied to the `writer.sheets['Recommended Trades']` object to apply formats to specific columns of our spreadsheets.\n",
        "\n",
        "Here's an example:\n",
        "\n",
        "```python\n",
        "writer.sheets['Recommended Trades'].set_column('B:B', #This tells the method to apply the format to column B\n",
        "                     18, #This tells the method to apply a column width of 18 pixels\n",
        "                     string_template #This applies the format 'string_template' to the column\n",
        "                    )\n",
        "```"
      ]
    },
    {
      "cell_type": "code",
      "execution_count": null,
      "metadata": {
        "id": "xoto9X-6DaPX"
      },
      "outputs": [],
      "source": []
    },
    {
      "cell_type": "markdown",
      "metadata": {
        "id": "LeA4hKGCDaPX"
      },
      "source": [
        "This code works, but it violates the software principle of \"Don't Repeat Yourself\". \n",
        "\n",
        "Let's simplify this by putting it in 2 loops:"
      ]
    },
    {
      "cell_type": "code",
      "execution_count": null,
      "metadata": {
        "id": "y-CAf4ngDaPY"
      },
      "outputs": [],
      "source": []
    },
    {
      "cell_type": "markdown",
      "metadata": {
        "id": "nA1R1GPdDaPY"
      },
      "source": [
        "## Saving Our Excel Output\n",
        "\n",
        "Saving our Excel file is very easy:"
      ]
    },
    {
      "cell_type": "code",
      "execution_count": null,
      "metadata": {
        "id": "xgtVqC8cDaPY"
      },
      "outputs": [],
      "source": []
    }
  ],
  "metadata": {
    "colab": {
      "name": "001_equal_weight_S&P_500.ipynb",
      "provenance": []
    },
    "kernelspec": {
      "display_name": "Python 3",
      "language": "python",
      "name": "python3"
    },
    "language_info": {
      "codemirror_mode": {
        "name": "ipython",
        "version": 3
      },
      "file_extension": ".py",
      "mimetype": "text/x-python",
      "name": "python",
      "nbconvert_exporter": "python",
      "pygments_lexer": "ipython3",
      "version": "3.9.7"
    }
  },
  "nbformat": 4,
  "nbformat_minor": 0
}
